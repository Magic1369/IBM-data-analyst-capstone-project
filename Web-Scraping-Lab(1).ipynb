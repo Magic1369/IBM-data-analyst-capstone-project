{
 "cells": [
  {
   "cell_type": "markdown",
   "metadata": {},
   "source": [
    "<p style=\"text-align:center\">\n",
    "    <a href=\"https://skills.network/?utm_medium=Exinfluencer&utm_source=Exinfluencer&utm_content=000026UJ&utm_term=10006555&utm_id=NA-SkillsNetwork-Channel-SkillsNetworkCoursesIBMDA0321ENSkillsNetwork928-2022-01-01\" target=\"_blank\">\n",
    "    <img src=\"https://cf-courses-data.s3.us.cloud-object-storage.appdomain.cloud/assets/logos/SN_web_lightmode.png\" width=\"200\" alt=\"Skills Network Logo\"  />\n",
    "    </a>\n",
    "</p>\n"
   ]
  },
  {
   "cell_type": "markdown",
   "metadata": {},
   "source": [
    "# **Hands-on Lab : Web Scraping**\n"
   ]
  },
  {
   "cell_type": "markdown",
   "metadata": {},
   "source": [
    "Estimated time needed: **30 to 45** minutes\n"
   ]
  },
  {
   "cell_type": "markdown",
   "metadata": {},
   "source": [
    "## Objectives\n"
   ]
  },
  {
   "cell_type": "markdown",
   "metadata": {},
   "source": [
    "In this lab you will perform the following:\n"
   ]
  },
  {
   "cell_type": "markdown",
   "metadata": {},
   "source": [
    "* Extract information from a given web site \n",
    "* Write the scraped data into a csv file.\n"
   ]
  },
  {
   "cell_type": "markdown",
   "metadata": {},
   "source": [
    "## Extract information from the given web site\n",
    "You will extract the data from the below web site: <br> \n"
   ]
  },
  {
   "cell_type": "code",
   "execution_count": 1,
   "metadata": {},
   "outputs": [],
   "source": [
    "#this url contains the data you need to scrape\n",
    "url = \"https://cf-courses-data.s3.us.cloud-object-storage.appdomain.cloud/IBM-DA0321EN-SkillsNetwork/labs/datasets/Programming_Languages.html\""
   ]
  },
  {
   "cell_type": "markdown",
   "metadata": {},
   "source": [
    "The data you need to scrape is the **name of the programming language** and **average annual salary**.<br> It is a good idea to open the url in your web broswer and study the contents of the web page before you start to scrape.\n"
   ]
  },
  {
   "cell_type": "markdown",
   "metadata": {},
   "source": [
    "Import the required libraries\n"
   ]
  },
  {
   "cell_type": "code",
   "execution_count": 2,
   "metadata": {
    "tags": []
   },
   "outputs": [
    {
     "name": "stdout",
     "output_type": "stream",
     "text": [
      "Requirement already satisfied: html5lib in /home/jupyterlab/conda/envs/python/lib/python3.7/site-packages (1.1)\n",
      "Requirement already satisfied: six>=1.9 in /home/jupyterlab/conda/envs/python/lib/python3.7/site-packages (from html5lib) (1.16.0)\n",
      "Requirement already satisfied: webencodings in /home/jupyterlab/conda/envs/python/lib/python3.7/site-packages (from html5lib) (0.5.1)\n"
     ]
    }
   ],
   "source": [
    "# Your code here\n",
    "from bs4 import BeautifulSoup\n",
    "import requests\n",
    "import pandas as pd\n",
    "!pip install html5lib"
   ]
  },
  {
   "cell_type": "markdown",
   "metadata": {},
   "source": [
    "Download the webpage at the url\n"
   ]
  },
  {
   "cell_type": "code",
   "execution_count": 3,
   "metadata": {
    "tags": []
   },
   "outputs": [],
   "source": [
    "#your code goes here\n",
    "r=requests.get(url).text"
   ]
  },
  {
   "cell_type": "markdown",
   "metadata": {},
   "source": [
    "Create a soup object\n"
   ]
  },
  {
   "cell_type": "code",
   "execution_count": 4,
   "metadata": {},
   "outputs": [
    {
     "data": {
      "text/plain": [
       "<!DOCTYPE html>\n",
       "<html lang=\"en\"><head>\n",
       "<title>\n",
       "Salary survey results of programming languages\n",
       "</title>\n",
       "<style>\n",
       "table, th, td {\n",
       "  border: 1px solid black;\n",
       "}\n",
       "</style>\n",
       "</head>\n",
       "\n",
       "<body>\n",
       "<hr/>\n",
       "<h2>Popular Programming Languages</h2>\n",
       "<hr/>\n",
       "<p>Finding out which is the best language is a tough task. A programming language is created to solve a specific problem. A language which is good for task A may not be able to properly handle task B. Comparing programming language is never easy. What we can do, however, is find which is popular in the industry.</p>\n",
       "<p>There are many ways to find the popularity of a programming languages. Counting the number of google searchs for each language is a simple way to find the popularity. GitHub and StackOverflow also can give some good pointers.</p>\n",
       "<p>Salary surveys are a way to find out the programmings languages that are most in demand in the industry. Below table is the result of one such survey. When using any survey keep in mind that the results vary year on year.</p>\n",
       "<hr/>\n",
       "<table>\n",
       "<tbody>\n",
       "<tr>\n",
       "<td>No.</td>\n",
       "<td>Language</td>\n",
       "<td>Created By</td>\n",
       "<td>Average Annual Salary</td>\n",
       "<td>Learning Difficulty</td>\n",
       "</tr>\n",
       "<tr>\n",
       "<td>1</td>\n",
       "<td>Python</td>\n",
       "<td>Guido van Rossum</td>\n",
       "<td>$114,383</td>\n",
       "<td>Easy</td>\n",
       "</tr>\n",
       "<tr>\n",
       "<td>2</td>\n",
       "<td>Java</td>\n",
       "<td>James Gosling</td>\n",
       "<td>$101,013</td>\n",
       "<td>Easy</td>\n",
       "</tr>\n",
       "<tr>\n",
       "<td>3</td>\n",
       "<td>R</td>\n",
       "<td>Robert Gentleman, Ross Ihaka</td>\n",
       "<td>$92,037</td>\n",
       "<td>Hard</td>\n",
       "</tr>\n",
       "<tr>\n",
       "<td>4</td>\n",
       "<td>Javascript</td>\n",
       "<td>Netscape</td>\n",
       "<td>$110,981</td>\n",
       "<td>Easy</td>\n",
       "</tr>\n",
       "<tr>\n",
       "<td>5</td>\n",
       "<td>Swift</td>\n",
       "<td>Apple</td>\n",
       "<td>$130,801</td>\n",
       "<td>Easy</td>\n",
       "</tr>\n",
       "<tr>\n",
       "<td>6</td>\n",
       "<td>C++</td>\n",
       "<td>Bjarne Stroustrup</td>\n",
       "<td>$113,865</td>\n",
       "<td>Hard</td>\n",
       "</tr>\n",
       "<tr>\n",
       "<td>7</td>\n",
       "<td>C#</td>\n",
       "<td>Microsoft</td>\n",
       "<td>$88,726</td>\n",
       "<td>Hard</td>\n",
       "</tr>\n",
       "<tr>\n",
       "<td>8</td>\n",
       "<td>PHP</td>\n",
       "<td>Rasmus Lerdorf</td>\n",
       "<td>$84,727</td>\n",
       "<td>Easy</td>\n",
       "</tr>\n",
       "<tr>\n",
       "<td>9</td>\n",
       "<td>SQL</td>\n",
       "<td>Donald D. Chamberlin, Raymond F. Boyce.</td>\n",
       "<td>$84,793</td>\n",
       "<td>Easy</td>\n",
       "</tr>\n",
       "<tr>\n",
       "<td>10</td>\n",
       "<td>Go</td>\n",
       "<td>Robert Griesemer, Ken Thompson, Rob Pike.</td>\n",
       "<td>$94,082</td>\n",
       "<td>Difficult</td>\n",
       "</tr>\n",
       "</tbody>\n",
       "</table>\n",
       "<hr/>\n",
       "\n",
       "</body></html>"
      ]
     },
     "execution_count": 4,
     "metadata": {},
     "output_type": "execute_result"
    }
   ],
   "source": [
    "#your code goes here\n",
    "\n",
    "soup=BeautifulSoup(r,\"html5lib\")\n",
    "soup"
   ]
  },
  {
   "cell_type": "markdown",
   "metadata": {},
   "source": [
    "Scrape the `Language name` and `annual average salary`.\n"
   ]
  },
  {
   "cell_type": "code",
   "execution_count": 5,
   "metadata": {},
   "outputs": [
    {
     "data": {
      "text/plain": [
       "{'Language name': ['Python',\n",
       "  'Java',\n",
       "  'R',\n",
       "  'Javascript',\n",
       "  'Swift',\n",
       "  'C++',\n",
       "  'C#',\n",
       "  'PHP',\n",
       "  'SQL',\n",
       "  'Go'],\n",
       " 'annual average salary': ['$114,383',\n",
       "  '$101,013',\n",
       "  '$92,037',\n",
       "  '$110,981',\n",
       "  '$130,801',\n",
       "  '$113,865',\n",
       "  '$88,726',\n",
       "  '$84,727',\n",
       "  '$84,793',\n",
       "  '$94,082']}"
      ]
     },
     "execution_count": 5,
     "metadata": {},
     "output_type": "execute_result"
    }
   ],
   "source": [
    "#your code goes here\n",
    "table=soup.find(\"table\")\n",
    "l=[]\n",
    "g=[]\n",
    "\n",
    "for rows in table.find_all(\"tr\")[1:]:\n",
    "    cols=rows.find_all(\"td\")\n",
    "    l.append(cols[1].getText())\n",
    "    g.append(cols[3].getText())\n",
    "l,g\n",
    "data={\"Language name\":l,\"annual average salary\":g}\n",
    "data"
   ]
  },
  {
   "cell_type": "markdown",
   "metadata": {},
   "source": [
    "Save the scrapped data into a file named *popular-languages.csv*\n"
   ]
  },
  {
   "cell_type": "code",
   "execution_count": 11,
   "metadata": {},
   "outputs": [
    {
     "data": {
      "text/html": [
       "<div>\n",
       "<style scoped>\n",
       "    .dataframe tbody tr th:only-of-type {\n",
       "        vertical-align: middle;\n",
       "    }\n",
       "\n",
       "    .dataframe tbody tr th {\n",
       "        vertical-align: top;\n",
       "    }\n",
       "\n",
       "    .dataframe thead th {\n",
       "        text-align: right;\n",
       "    }\n",
       "</style>\n",
       "<table border=\"1\" class=\"dataframe\">\n",
       "  <thead>\n",
       "    <tr style=\"text-align: right;\">\n",
       "      <th></th>\n",
       "      <th>Language name</th>\n",
       "      <th>annual average salary</th>\n",
       "    </tr>\n",
       "  </thead>\n",
       "  <tbody>\n",
       "    <tr>\n",
       "      <th>0</th>\n",
       "      <td>Python</td>\n",
       "      <td>$114,383</td>\n",
       "    </tr>\n",
       "    <tr>\n",
       "      <th>1</th>\n",
       "      <td>Java</td>\n",
       "      <td>$101,013</td>\n",
       "    </tr>\n",
       "    <tr>\n",
       "      <th>2</th>\n",
       "      <td>R</td>\n",
       "      <td>$92,037</td>\n",
       "    </tr>\n",
       "    <tr>\n",
       "      <th>3</th>\n",
       "      <td>Javascript</td>\n",
       "      <td>$110,981</td>\n",
       "    </tr>\n",
       "    <tr>\n",
       "      <th>4</th>\n",
       "      <td>Swift</td>\n",
       "      <td>$130,801</td>\n",
       "    </tr>\n",
       "    <tr>\n",
       "      <th>5</th>\n",
       "      <td>C++</td>\n",
       "      <td>$113,865</td>\n",
       "    </tr>\n",
       "    <tr>\n",
       "      <th>6</th>\n",
       "      <td>C#</td>\n",
       "      <td>$88,726</td>\n",
       "    </tr>\n",
       "    <tr>\n",
       "      <th>7</th>\n",
       "      <td>PHP</td>\n",
       "      <td>$84,727</td>\n",
       "    </tr>\n",
       "    <tr>\n",
       "      <th>8</th>\n",
       "      <td>SQL</td>\n",
       "      <td>$84,793</td>\n",
       "    </tr>\n",
       "    <tr>\n",
       "      <th>9</th>\n",
       "      <td>Go</td>\n",
       "      <td>$94,082</td>\n",
       "    </tr>\n",
       "  </tbody>\n",
       "</table>\n",
       "</div>"
      ],
      "text/plain": [
       "  Language name annual average salary\n",
       "0        Python              $114,383\n",
       "1          Java              $101,013\n",
       "2             R               $92,037\n",
       "3    Javascript              $110,981\n",
       "4         Swift              $130,801\n",
       "5           C++              $113,865\n",
       "6            C#               $88,726\n",
       "7           PHP               $84,727\n",
       "8           SQL               $84,793\n",
       "9            Go               $94,082"
      ]
     },
     "execution_count": 11,
     "metadata": {},
     "output_type": "execute_result"
    }
   ],
   "source": [
    "# your code goes here\n",
    "df=pd.DataFrame(data)\n",
    "\n",
    "df1=df.to_csv(\"popular_language.csv\")\n",
    "df\n"
   ]
  },
  {
   "cell_type": "markdown",
   "metadata": {},
   "source": [
    "## Authors\n"
   ]
  },
  {
   "cell_type": "markdown",
   "metadata": {},
   "source": [
    "Ramesh Sannareddy\n"
   ]
  },
  {
   "cell_type": "markdown",
   "metadata": {},
   "source": [
    "### Other Contributors\n"
   ]
  },
  {
   "cell_type": "markdown",
   "metadata": {},
   "source": [
    "Rav Ahuja\n"
   ]
  },
  {
   "cell_type": "markdown",
   "metadata": {},
   "source": [
    "## Change Log\n"
   ]
  },
  {
   "cell_type": "markdown",
   "metadata": {},
   "source": [
    "|  Date (YYYY-MM-DD) |  Version | Changed By  |  Change Description |\n",
    "|---|---|---|---|\n",
    "| 2020-10-17  | 0.1  | Ramesh Sannareddy  |  Created initial version of the lab |\n"
   ]
  },
  {
   "cell_type": "markdown",
   "metadata": {},
   "source": [
    " Copyright &copy; 2020 IBM Corporation. This notebook and its source code are released under the terms of the [MIT License](https://cognitiveclass.ai/mit-license/?utm_medium=Exinfluencer&utm_source=Exinfluencer&utm_content=000026UJ&utm_term=10006555&utm_id=NA-SkillsNetwork-Channel-SkillsNetworkCoursesIBMDA0321ENSkillsNetwork928-2022-01-01).\n"
   ]
  }
 ],
 "metadata": {
  "kernelspec": {
   "display_name": "Python",
   "language": "python",
   "name": "conda-env-python-py"
  },
  "language_info": {
   "codemirror_mode": {
    "name": "ipython",
    "version": 3
   },
   "file_extension": ".py",
   "mimetype": "text/x-python",
   "name": "python",
   "nbconvert_exporter": "python",
   "pygments_lexer": "ipython3",
   "version": "3.7.12"
  }
 },
 "nbformat": 4,
 "nbformat_minor": 4
}
